{
 "cells": [
  {
   "cell_type": "code",
   "execution_count": 1,
   "metadata": {},
   "outputs": [],
   "source": [
    "import numpy as np\n",
    "import pandas as pd\n",
    "import matplotlib.pyplot as plt\n",
    "import seaborn as sns\n",
    "import scipy.stats as sm"
   ]
  },
  {
   "cell_type": "markdown",
   "metadata": {},
   "source": [
    "## 2.1. Problem Statement: STATISTICS 1"
   ]
  },
  {
   "cell_type": "markdown",
   "metadata": {},
   "source": [
    "### 1. You survey households in your area to find the average rent they are paying. Find the standard deviation from the following data:\n",
    "### $1550, $1700, $900, $850, $1000, $950."
   ]
  },
  {
   "cell_type": "code",
   "execution_count": 2,
   "metadata": {},
   "outputs": [],
   "source": [
    "rent = [1550, 1700, 900, 850, 1000, 950]"
   ]
  },
  {
   "cell_type": "code",
   "execution_count": 3,
   "metadata": {},
   "outputs": [
    {
     "data": {
      "text/plain": [
       "335.92740617910624"
      ]
     },
     "execution_count": 3,
     "metadata": {},
     "output_type": "execute_result"
    }
   ],
   "source": [
    "np.std(rent)"
   ]
  },
  {
   "cell_type": "markdown",
   "metadata": {},
   "source": [
    "### 2. Find the variance for the following set of data representing trees in California (heights in feet):\n",
    "### 3, 21, 98, 203, 17, 9"
   ]
  },
  {
   "cell_type": "code",
   "execution_count": 4,
   "metadata": {},
   "outputs": [],
   "source": [
    "height = 3, 21, 98, 203, 17, 9"
   ]
  },
  {
   "cell_type": "code",
   "execution_count": 5,
   "metadata": {},
   "outputs": [
    {
     "data": {
      "text/plain": [
       "5183.25"
      ]
     },
     "execution_count": 5,
     "metadata": {},
     "output_type": "execute_result"
    }
   ],
   "source": [
    "np.var(height)"
   ]
  },
  {
   "cell_type": "markdown",
   "metadata": {},
   "source": [
    "### 3. In a class on 100 students, 80 students passed in all subjects, 10 failed in one subject, 7 failed in two subjects and 3 failed in three subjects. Find the probability distribution of the variable for number of subjects a student from the given class has failed in."
   ]
  },
  {
   "cell_type": "code",
   "execution_count": 6,
   "metadata": {},
   "outputs": [],
   "source": [
    "passrate = {'noOfStudents': [80,10,7,3],'NoOfSubjectsFailed': [0,1,2,3]}"
   ]
  },
  {
   "cell_type": "code",
   "execution_count": 7,
   "metadata": {},
   "outputs": [
    {
     "data": {
      "text/html": [
       "<div>\n",
       "<style scoped>\n",
       "    .dataframe tbody tr th:only-of-type {\n",
       "        vertical-align: middle;\n",
       "    }\n",
       "\n",
       "    .dataframe tbody tr th {\n",
       "        vertical-align: top;\n",
       "    }\n",
       "\n",
       "    .dataframe thead th {\n",
       "        text-align: right;\n",
       "    }\n",
       "</style>\n",
       "<table border=\"1\" class=\"dataframe\">\n",
       "  <thead>\n",
       "    <tr style=\"text-align: right;\">\n",
       "      <th></th>\n",
       "      <th>noOfStudents</th>\n",
       "      <th>NoOfSubjectsFailed</th>\n",
       "    </tr>\n",
       "  </thead>\n",
       "  <tbody>\n",
       "    <tr>\n",
       "      <th>0</th>\n",
       "      <td>80</td>\n",
       "      <td>0</td>\n",
       "    </tr>\n",
       "    <tr>\n",
       "      <th>1</th>\n",
       "      <td>10</td>\n",
       "      <td>1</td>\n",
       "    </tr>\n",
       "    <tr>\n",
       "      <th>2</th>\n",
       "      <td>7</td>\n",
       "      <td>2</td>\n",
       "    </tr>\n",
       "    <tr>\n",
       "      <th>3</th>\n",
       "      <td>3</td>\n",
       "      <td>3</td>\n",
       "    </tr>\n",
       "  </tbody>\n",
       "</table>\n",
       "</div>"
      ],
      "text/plain": [
       "   noOfStudents  NoOfSubjectsFailed\n",
       "0            80                   0\n",
       "1            10                   1\n",
       "2             7                   2\n",
       "3             3                   3"
      ]
     },
     "execution_count": 7,
     "metadata": {},
     "output_type": "execute_result"
    }
   ],
   "source": [
    "df = pd.DataFrame(passrate)\n",
    "df"
   ]
  },
  {
   "cell_type": "code",
   "execution_count": 8,
   "metadata": {},
   "outputs": [
    {
     "data": {
      "text/html": [
       "<div>\n",
       "<style scoped>\n",
       "    .dataframe tbody tr th:only-of-type {\n",
       "        vertical-align: middle;\n",
       "    }\n",
       "\n",
       "    .dataframe tbody tr th {\n",
       "        vertical-align: top;\n",
       "    }\n",
       "\n",
       "    .dataframe thead th {\n",
       "        text-align: right;\n",
       "    }\n",
       "</style>\n",
       "<table border=\"1\" class=\"dataframe\">\n",
       "  <thead>\n",
       "    <tr style=\"text-align: right;\">\n",
       "      <th></th>\n",
       "      <th>noOfStudents</th>\n",
       "      <th>NoOfSubjectsFailed</th>\n",
       "      <th>p(noOfSubjectsFailed)</th>\n",
       "    </tr>\n",
       "  </thead>\n",
       "  <tbody>\n",
       "    <tr>\n",
       "      <th>0</th>\n",
       "      <td>80</td>\n",
       "      <td>0</td>\n",
       "      <td>0.80</td>\n",
       "    </tr>\n",
       "    <tr>\n",
       "      <th>1</th>\n",
       "      <td>10</td>\n",
       "      <td>1</td>\n",
       "      <td>0.10</td>\n",
       "    </tr>\n",
       "    <tr>\n",
       "      <th>2</th>\n",
       "      <td>7</td>\n",
       "      <td>2</td>\n",
       "      <td>0.07</td>\n",
       "    </tr>\n",
       "    <tr>\n",
       "      <th>3</th>\n",
       "      <td>3</td>\n",
       "      <td>3</td>\n",
       "      <td>0.03</td>\n",
       "    </tr>\n",
       "  </tbody>\n",
       "</table>\n",
       "</div>"
      ],
      "text/plain": [
       "   noOfStudents  NoOfSubjectsFailed  p(noOfSubjectsFailed)\n",
       "0            80                   0                   0.80\n",
       "1            10                   1                   0.10\n",
       "2             7                   2                   0.07\n",
       "3             3                   3                   0.03"
      ]
     },
     "execution_count": 8,
     "metadata": {},
     "output_type": "execute_result"
    }
   ],
   "source": [
    "df['p(noOfSubjectsFailed)'] = df['noOfStudents']/df['noOfStudents'].sum()\n",
    "df"
   ]
  },
  {
   "cell_type": "markdown",
   "metadata": {},
   "source": [
    "# 2.2. Problem Statement: STATISTICS 2\n",
    "\n",
    "### 1. A test is conducted which is consisting of 20 MCQs (multiple choices questions) with every MCQ having its four options out of which only one is correct. Determine the probability that a person undertaking that test has answered exactly 5 questions wrong."
   ]
  },
  {
   "cell_type": "code",
   "execution_count": 14,
   "metadata": {},
   "outputs": [
    {
     "data": {
      "text/plain": [
       "3.4264958230778435e-06"
      ]
     },
     "execution_count": 14,
     "metadata": {},
     "output_type": "execute_result"
    }
   ],
   "source": [
    "n,p = 20,0.75\n",
    "pmf = sm.binom.pmf(5, n, p);pmf"
   ]
  },
  {
   "cell_type": "markdown",
   "metadata": {},
   "source": [
    "### 2. A die marked A to E is rolled 50 times. Find the probability of getting a “D” exactly 5 times."
   ]
  },
  {
   "cell_type": "code",
   "execution_count": 15,
   "metadata": {},
   "outputs": [
    {
     "data": {
      "text/plain": [
       "0.2"
      ]
     },
     "execution_count": 15,
     "metadata": {},
     "output_type": "execute_result"
    }
   ],
   "source": [
    "n,p =50,0.2\n",
    "pmf = p; pmf"
   ]
  },
  {
   "cell_type": "markdown",
   "metadata": {},
   "source": [
    "### 3. Two balls are drawn at random in succession without replacement from an urn containing 4 red balls and 6 black balls. Find the probabilities of all the possible outcomes."
   ]
  },
  {
   "cell_type": "code",
   "execution_count": 16,
   "metadata": {},
   "outputs": [
    {
     "name": "stdout",
     "output_type": "stream",
     "text": [
      "['red', 'red']\n",
      "['black', 'red']\n",
      "['black', 'black']\n",
      "['red', 'black']\n"
     ]
    }
   ],
   "source": [
    "import random\n",
    "\n",
    "def unique_Selections():\n",
    "    d = {}\n",
    "    for i in range(10):\n",
    "        if i <4:\n",
    "            d[i] = 'red'\n",
    "        else:\n",
    "            d[i] = 'black'\n",
    "    for i in range(90):\n",
    "        sequence =[]\n",
    "        for i in range(2):\n",
    "            sequence.append(d[random.randint(0,9)])\n",
    "        yield sequence\n",
    "\n",
    "\n",
    "def Outcomes():\n",
    "     mylist = yield from unique_Selections()\n",
    "\n",
    "#for x in Listings():\n",
    "   # print(x)\n",
    "   \n",
    "# function to get unique color combinations\n",
    "def uniqueCC(mylist): \n",
    "  \n",
    "    # intilize a null list \n",
    "    cc_list = [] \n",
    "      \n",
    "    # traverse for all elements \n",
    "    for x in mylist: \n",
    "        # check if exists in unique_list or not \n",
    "        if x not in cc_list: \n",
    "            cc_list.append(x) \n",
    "    # print list \n",
    "    for x in cc_list: \n",
    "        print (x)\n",
    "uniqueCC(Outcomes())"
   ]
  },
  {
   "cell_type": "code",
   "execution_count": 17,
   "metadata": {},
   "outputs": [
    {
     "name": "stdout",
     "output_type": "stream",
     "text": [
      "The pobability of ['red', 'red'] is 2/15\n",
      "The pobability of ['red', 'black'] is 4/15\n",
      "The pobability of ['black', 'red'] is 4/15\n",
      "The pobability of ['black', 'black'] is 1/3\n"
     ]
    },
    {
     "data": {
      "text/plain": [
       "(None, None)"
      ]
     },
     "execution_count": 17,
     "metadata": {},
     "output_type": "execute_result"
    }
   ],
   "source": [
    "from fractions import Fraction \n",
    "print('The pobability of {} is '.format(['red', 'red']), end = \"\"), print(Fraction(4,10)*Fraction(3,9))\n",
    "print('The pobability of {} is '.format(['red', 'black']), end = \"\"), print(Fraction(4,10)*Fraction(6,9))\n",
    "print('The pobability of {} is '.format(['black', 'red']), end = \"\"), print(Fraction(6,10)*Fraction(4,9))\n",
    "print('The pobability of {} is '.format(['black', 'black']), end = \"\"), print(Fraction(6,10)*Fraction(5,9))"
   ]
  },
  {
   "cell_type": "markdown",
   "metadata": {},
   "source": [
    "# 2.3. Problem Statement: STATISTICS 3"
   ]
  },
  {
   "cell_type": "markdown",
   "metadata": {},
   "source": [
    "### Blood glucose levels for obese patients have a mean of 100 with a standard deviation of 15. A researcher thinks that a diet high in raw cornstarch will have a positive effect on blood glucose levels. A sample of 36 patients who have tried the raw cornstarch diet have a mean glucose level of 108. Test the hypothesis that the raw cornstarch had an effect or not."
   ]
  },
  {
   "cell_type": "code",
   "execution_count": 25,
   "metadata": {},
   "outputs": [
    {
     "name": "stdout",
     "output_type": "stream",
     "text": [
      "H0:μ=100\n",
      "Ha:u≠100\n",
      "α = 0.05\n",
      "\n",
      "The Z-Score is 3.20 :\n",
      "p-value associated with Z-Score 0.9993\n",
      "Probability of having values more than or equals to 108 is: 0.0007\n",
      "\n",
      "Decision: Reject Ho\n",
      "i.e. there is raw cornstarch effect\n"
     ]
    }
   ],
   "source": [
    "import math\n",
    "import scipy\n",
    "no_of_sample = 36\n",
    "sample_mean = 108\n",
    "population_mean = 100\n",
    "population_sigma  = 15\n",
    "\n",
    "#State the hypotheses and significance level. The population mean is 100.\n",
    "print('H0:μ=100\\nHa:u≠100\\nα = 0.05\\n')\n",
    "\n",
    "z = (sample_mean - population_mean) / (population_sigma /math.sqrt(no_of_sample))\n",
    "print('The Z-Score is {:.2f} :'.format(z))\n",
    "pValue = scipy.stats.norm.cdf(3.20)\n",
    "print('p-value associated with Z-Score {:.4f}'.format(pValue))\n",
    "print('Probability of having values more than or equals to 108 is: {:.4f}'.format(1-pValue))\n",
    "print('\\nDecision: Reject Ho\\ni.e. there is raw cornstarch effect')"
   ]
  },
  {
   "cell_type": "markdown",
   "metadata": {},
   "source": [
    "### 1. In one state, 52% of the voters are Republicans, and 48% are Democrats. In a second state, 47% of the voters are Republicans, and 53% are Democrats. Suppose a simple random sample of 100 voters are surveyed from each state."
   ]
  },
  {
   "cell_type": "code",
   "execution_count": 44,
   "metadata": {},
   "outputs": [
    {
     "name": "stdout",
     "output_type": "stream",
     "text": [
      "mean of difference in sample proportions:\n",
      "E(p1-p2) = 0.05\n",
      "\n",
      "The standard deviation of the difference, std = 0.0706\n",
      "Transform the random variable (p1 - p2) into a z-score:\n",
      "Z-Score = -0.7080 \n"
     ]
    }
   ],
   "source": [
    "#P1 = the proportion of Republican voters in the State1\n",
    "#P2 = the proportion of Republican voters in the State2\n",
    "#p1 = the proportion of Republican voters in the sample from State1\n",
    "#p2 = the proportion of Republican voters in the sample from State2. \n",
    "#number of voters sampled from State1 (n1)=100\n",
    "#number of voters sampled from State2 (n2) =100\n",
    "import math\n",
    "P1,P2,n1,n2 = 0.52,0.47,100,100\n",
    "mu = P1-P2\n",
    "Q1 = 1-P1;Q1\n",
    "Q2 = 1-P2;Q2\n",
    "print('mean of difference in sample proportions:\\nE(p1-p2) = {:.2f}'.format(mu))\n",
    "\n",
    "#std = math.sqrt(((P1 * Q1 ) / n1) + ((P2 * Q2 /n2)))\n",
    "std =math.sqrt((0.52*0.48/100)+ (0.47*0.53/100))\n",
    "print('\\nThe standard deviation of the difference, std = {:.4f}'.format(std))\n",
    "x = 0\n",
    "z = ( x - mu)/std\n",
    "\n",
    "print('Transform the random variable (p1 - p2) into a z-score:\\nZ-Score = {:.4f} '.format(z))"
   ]
  },
  {
   "cell_type": "code",
   "execution_count": 43,
   "metadata": {},
   "outputs": [
    {
     "name": "stdout",
     "output_type": "stream",
     "text": [
      "\n",
      "The probability of a z-score being -0.7082 or less is 0.24\n",
      "The probability that the survey will show a greater percentage of Republican voters in the second state than in the first state is 24%\n"
     ]
    }
   ],
   "source": [
    "pValue = scipy.stats.norm.cdf(z)\n",
    "print('\\nThe probability of a z-score being -0.7082 or less is {:.2f}'.format(pValue))\n",
    "print('The probability that the survey will show a greater percentage of Republican \\\n",
    "voters in the second state than in the first state is {:.0%}'.format(pValue))"
   ]
  },
  {
   "cell_type": "markdown",
   "metadata": {},
   "source": [
    "### 2. You take the SAT and score 1100. The mean score for the SAT is 1026 and the standard deviation is 209. How well did you score on the test compared to the average test taker?"
   ]
  },
  {
   "cell_type": "code",
   "execution_count": 70,
   "metadata": {},
   "outputs": [
    {
     "name": "stdout",
     "output_type": "stream",
     "text": [
      "Z-Score : 0.354\n",
      "\n",
      "If the z score tells how many standard deviations from the mean your score is, my score is 0.354 standard deviations above the  score of an average test taker\n"
     ]
    }
   ],
   "source": [
    "x = 1100 #\n",
    "mu = 1026 # Population Mean\n",
    "std = 209 #population standard deviation\n",
    "z = ( x - mu)/std\n",
    "print(\"Z-Score : {:.3f}\".format(z))\n",
    "print('\\nIf the z score tells how many standard deviations from the mean your score is,\\\n",
    " my score is {:.3f} standard deviations above the  score of an average test taker'.format(z))"
   ]
  },
  {
   "cell_type": "markdown",
   "metadata": {},
   "source": [
    "## 2.4. Problem Statement: STATISTICS 4"
   ]
  },
  {
   "attachments": {
    "image.png": {
     "image/png": "[encoded data removed]"
    }
   },
   "cell_type": "markdown",
   "metadata": {},
   "source": [
    "### 1. Is gender independent of education level? A random sample of 395 people were surveyed and each person was asked to report the highest education level they obtained. The data that resulted from the survey is summarized in the following table:\n",
    "![image.png](attachment:image.png)\n",
    "### Question: Are gender and education level dependent at 5% level of significance? In other words, given the data collected above, is there a relationship between the gender of an individual and the level of education that they have obtained?"
   ]
  },
  {
   "cell_type": "code",
   "execution_count": 46,
   "metadata": {},
   "outputs": [
    {
     "data": {
      "text/plain": [
       "array([[60, 54, 46, 41],\n",
       "       [40, 44, 53, 57]])"
      ]
     },
     "execution_count": 46,
     "metadata": {},
     "output_type": "execute_result"
    }
   ],
   "source": [
    "female = [60, 54, 46, 41]\n",
    "male = [40, 44, 53, 57]\n",
    "\n",
    "Observed_values = np.array([female,male]);Observed_values"
   ]
  },
  {
   "cell_type": "code",
   "execution_count": 47,
   "metadata": {},
   "outputs": [
    {
     "data": {
      "text/plain": [
       "array([[50.88607595, 49.86835443, 50.37721519, 49.86835443],\n",
       "       [49.11392405, 48.13164557, 48.62278481, 48.13164557]])"
      ]
     },
     "execution_count": 47,
     "metadata": {},
     "output_type": "execute_result"
    }
   ],
   "source": [
    "chi2, p, ddof, Expected_values = sm.chi2_contingency(Observed_values); Expected_values"
   ]
  },
  {
   "cell_type": "code",
   "execution_count": 48,
   "metadata": {},
   "outputs": [
    {
     "name": "stdout",
     "output_type": "stream",
     "text": [
      "Test Statistic: 8.006066246262538\n",
      "p-value: 0.045886500891747214\n",
      "Degrees of Freedom: 3\n",
      "\n"
     ]
    }
   ],
   "source": [
    "test_statistic = \"Test Statistic: {}\\np-value: {}\\nDegrees of Freedom: {}\\n\"\n",
    "print(test_statistic.format(chi2, p, ddof))"
   ]
  },
  {
   "cell_type": "code",
   "execution_count": 49,
   "metadata": {},
   "outputs": [
    {
     "name": "stdout",
     "output_type": "stream",
     "text": [
      "Ho: Gender is independent of education level \n",
      "Ha: Gender is not independent of education level\n",
      "α = 0.05\n",
      "Decision: Reject Ho\n"
     ]
    }
   ],
   "source": [
    "print('Ho: Gender is independent of education level \\nHa: Gender is not independent of education level\\nα = 0.05')\n",
    "print('Decision: Reject Ho')"
   ]
  },
  {
   "cell_type": "markdown",
   "metadata": {},
   "source": [
    "### 2. Using the following data, perform a one-way analysis of variance using α=.05. Write up the results in APA format.\n",
    "### [Group1: 51, 45, 33, 45, 67]\n",
    "### [Group2: 23, 43, 23, 43, 45]\n",
    "### [Group3: 56, 76, 74, 87, 56]"
   ]
  },
  {
   "cell_type": "code",
   "execution_count": 50,
   "metadata": {},
   "outputs": [
    {
     "data": {
      "text/plain": [
       "array([[51, 45, 33, 45, 67],\n",
       "       [23, 43, 23, 43, 45],\n",
       "       [56, 76, 74, 87, 56]])"
      ]
     },
     "execution_count": 50,
     "metadata": {},
     "output_type": "execute_result"
    }
   ],
   "source": [
    "grp1 = np.array([51, 45, 33, 45, 67])\n",
    "grp2 = np.array([23, 43, 23, 43, 45])\n",
    "grp3 = np.array([56, 76, 74, 87, 56])\n",
    "cgrp = np.array([grp1, grp2, grp3])\n",
    "cgrp"
   ]
  },
  {
   "cell_type": "code",
   "execution_count": 51,
   "metadata": {},
   "outputs": [
    {
     "data": {
      "text/plain": [
       "array([[2601, 2025, 1089, 2025, 4489],\n",
       "       [ 529, 1849,  529, 1849, 2025],\n",
       "       [3136, 5776, 5476, 7569, 3136]], dtype=int32)"
      ]
     },
     "execution_count": 51,
     "metadata": {},
     "output_type": "execute_result"
    }
   ],
   "source": [
    "grp1sq = grp1**2\n",
    "grp2sq = grp2**2\n",
    "grp3sq = grp3**2\n",
    "cgrpsq = np.array([grp1sq, grp2sq, grp3sq])\n",
    "cgrpsq"
   ]
  },
  {
   "cell_type": "code",
   "execution_count": 52,
   "metadata": {},
   "outputs": [
    {
     "name": "stdout",
     "output_type": "stream",
     "text": [
      "Sum of group squares:\n",
      "GRP1sq: 12229\n",
      "GRP2sq: 6781\n",
      "GRP3sq: 25093\n"
     ]
    }
   ],
   "source": [
    "GRP1sq = grp1sq.sum()\n",
    "GRP2sq = grp2sq.sum()\n",
    "GRP3sq = grp3sq.sum()\n",
    "print('Sum of group squares:\\nGRP1sq: {}\\nGRP2sq: {}\\nGRP3sq: {}'.format(GRP1sq, GRP2sq, GRP3sq))"
   ]
  },
  {
   "cell_type": "code",
   "execution_count": 53,
   "metadata": {},
   "outputs": [
    {
     "name": "stdout",
     "output_type": "stream",
     "text": [
      "Group Sums:\n",
      "grp1 sum: 241\n",
      "grp2 sum: 177\n",
      "grp3 sum: 349\n",
      "cgrp sum: 767\n"
     ]
    }
   ],
   "source": [
    "gp1 = grp1.sum()\n",
    "gp2 = grp2.sum()\n",
    "gp3 = grp3.sum()\n",
    "cgp = cgrp.sum()\n",
    "print('Group Sums:\\ngrp1 sum: {}\\ngrp2 sum: {}\\ngrp3 sum: {}\\ncgrp sum: {}'.format(gp1, gp2, gp3, cgp))"
   ]
  },
  {
   "cell_type": "code",
   "execution_count": 54,
   "metadata": {},
   "outputs": [
    {
     "name": "stdout",
     "output_type": "stream",
     "text": [
      "SSwithin: 1860.80\n"
     ]
    }
   ],
   "source": [
    "# Calculate Sum of Squares Within (SSwithin)\n",
    "SS1 = GRP1sq -(gp1**2/5)\n",
    "SS2 = GRP2sq-(gp2**2/5)\n",
    "SS3 = GRP3sq-(gp3**2/5)\n",
    "SSwithin = SS1+SS2+SS3\n",
    "print('SSwithin: {:.2f}'.format(SSwithin))"
   ]
  },
  {
   "cell_type": "code",
   "execution_count": 55,
   "metadata": {},
   "outputs": [
    {
     "name": "stdout",
     "output_type": "stream",
     "text": [
      "SSbetween: 3022.93\n"
     ]
    }
   ],
   "source": [
    "# Sum of Squares between. Sum of Squares Between is the variability due to interaction between the groups.\n",
    "#Sometimes known as the Sum of Squares of the Model.\n",
    "SSbetween = ((gp1**2/5)+(gp2**2/5)+(gp3**2/5))-(cgp**2/15)\n",
    "print('SSbetween: {:.2f}'.format(SSbetween))"
   ]
  },
  {
   "cell_type": "code",
   "execution_count": 56,
   "metadata": {},
   "outputs": [
    {
     "name": "stdout",
     "output_type": "stream",
     "text": [
      "SStotal: 4883.73\n"
     ]
    }
   ],
   "source": [
    "# Calculate of Sum of Squares Total\n",
    "print('SStotal: {:.2f}'.format(SSbetween +SSwithin))"
   ]
  },
  {
   "cell_type": "code",
   "execution_count": 57,
   "metadata": {},
   "outputs": [
    {
     "name": "stdout",
     "output_type": "stream",
     "text": [
      "DFbetween: 2\n",
      "DFwithin: 12\n",
      "DFtotal: 14 \n"
     ]
    }
   ],
   "source": [
    "k = 3\n",
    "n =15\n",
    "DFbetween = k - 1\n",
    "DFwithin = n - k\n",
    "DFtotal = n - 1\n",
    "print('DFbetween: {}\\nDFwithin: {}\\nDFtotal: {} '.format(DFbetween, DFwithin, DFtotal))"
   ]
  },
  {
   "cell_type": "code",
   "execution_count": 58,
   "metadata": {},
   "outputs": [
    {
     "name": "stdout",
     "output_type": "stream",
     "text": [
      "MSbetween: 1511.47\n"
     ]
    }
   ],
   "source": [
    "# Calculate Mean Square Between\n",
    "# Mean square between is the sum of squares within divided by degree of freedom between.\n",
    "MSbetween = SSbetween/DFbetween\n",
    "print('MSbetween: {:.2f}'.format(MSbetween))"
   ]
  },
  {
   "cell_type": "code",
   "execution_count": 59,
   "metadata": {},
   "outputs": [
    {
     "name": "stdout",
     "output_type": "stream",
     "text": [
      "MSwithin: 155.07\n"
     ]
    }
   ],
   "source": [
    "# Calculate Mean Square Within\n",
    "# Mean Square within is also an easy calculation\n",
    "MSwithin = SSwithin/DFwithin\n",
    "print('MSwithin: {:.2f}'.format(MSwithin))"
   ]
  },
  {
   "cell_type": "code",
   "execution_count": 60,
   "metadata": {},
   "outputs": [
    {
     "name": "stdout",
     "output_type": "stream",
     "text": [
      "F: 9.75\n"
     ]
    }
   ],
   "source": [
    "F = MSbetween/MSwithin\n",
    "print('F: {:.2f}'.format(F))"
   ]
  },
  {
   "cell_type": "code",
   "execution_count": 61,
   "metadata": {},
   "outputs": [
    {
     "name": "stdout",
     "output_type": "stream",
     "text": [
      "probability, p: 0.0031\n"
     ]
    }
   ],
   "source": [
    "# To reject the null hypothesis we check if the obtained F-value is above the critical value for rejecting the null hypothesis.\n",
    "# We could look it up in a F-value table based on the DFwithin and DFbetween. \n",
    "p = sm.f.sf(F, DFbetween, DFwithin)\n",
    "print('probability, p: {:.4f}'.format(p))"
   ]
  },
  {
   "cell_type": "code",
   "execution_count": 62,
   "metadata": {},
   "outputs": [],
   "source": [
    "# calculate effect size. We start with the commonly used eta-squared (η² )\n",
    "eta_sqrd = SSbetween/(SSbetween+SSwithin)\n",
    "\n",
    "# However, eta-squared is somewhat biased because it is based purely on sums of squares from the sample.\n",
    "# No adjustment is made for the fact that what we aiming to do is to estimate the effect size in the population.\n",
    "# Thus, we can use the less biased effect size measure Omega squared (ω2)\n",
    "om_sqrd = (SSbetween - (DFbetween * MSwithin))/(SSbetween+SSwithin + MSwithin)"
   ]
  },
  {
   "cell_type": "code",
   "execution_count": 63,
   "metadata": {},
   "outputs": [
    {
     "name": "stdout",
     "output_type": "stream",
     "text": [
      "APA writeup:\n",
      "F(2,12) = 9.75, p(=0.0031)<0.05,η² = 0.62,ω2 = 0.54\n"
     ]
    }
   ],
   "source": [
    "print('APA writeup:')\n",
    "print('F(2,12) = {:.2f}, p(={:.4F})<0.05,η² = {:.2f},ω2 = {:.2f}'.format(F, p, eta_sqrd, om_sqrd ))"
   ]
  },
  {
   "cell_type": "code",
   "execution_count": 64,
   "metadata": {},
   "outputs": [
    {
     "name": "stdout",
     "output_type": "stream",
     "text": [
      "Ho: u1=u2=u3\n",
      "Ha: u1≠u2≠u3\n",
      "α = 0.05\n",
      "Decision: Reject Ho\n"
     ]
    }
   ],
   "source": [
    "print('Ho: u1=u2=u3\\nHa: u1≠u2≠u3\\nα = 0.05')\n",
    "print('Decision: Reject Ho')"
   ]
  },
  {
   "cell_type": "markdown",
   "metadata": {},
   "source": [
    "### Calculate F Test for given 10, 20, 30, 40, 50 and 5,10,15, 20, 25.\n",
    "### For 10, 20, 30, 40, 50:"
   ]
  },
  {
   "cell_type": "code",
   "execution_count": 65,
   "metadata": {},
   "outputs": [],
   "source": [
    "firstSet = [10, 20, 30, 40, 50]\n",
    "secondSet = [5,10,15, 20, 25]"
   ]
  },
  {
   "cell_type": "code",
   "execution_count": 66,
   "metadata": {},
   "outputs": [
    {
     "data": {
      "text/plain": [
       "4.0"
      ]
     },
     "execution_count": 66,
     "metadata": {},
     "output_type": "execute_result"
    }
   ],
   "source": [
    "F= np.var(firstSet)/np.var(secondSet);F"
   ]
  },
  {
   "cell_type": "code",
   "execution_count": null,
   "metadata": {},
   "outputs": [],
   "source": []
  }
 ],
 "metadata": {
  "kernelspec": {
   "display_name": "Python 3",
   "language": "python",
   "name": "python3"
  },
  "language_info": {
   "codemirror_mode": {
    "name": "ipython",
    "version": 3
   },
   "file_extension": ".py",
   "mimetype": "text/x-python",
   "name": "python",
   "nbconvert_exporter": "python",
   "pygments_lexer": "ipython3",
   "version": "3.7.3"
  }
 },
 "nbformat": 4,
 "nbformat_minor": 2
}
